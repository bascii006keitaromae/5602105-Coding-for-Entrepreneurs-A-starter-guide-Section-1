{
  "nbformat": 4,
  "nbformat_minor": 0,
  "metadata": {
    "colab": {
      "provenance": []
    },
    "kernelspec": {
      "name": "python3",
      "display_name": "Python 3"
    },
    "language_info": {
      "name": "python"
    }
  },
  "cells": [
    {
      "cell_type": "code",
      "execution_count": null,
      "metadata": {
        "id": "kAkHR8qEf041"
      },
      "outputs": [],
      "source": [
        "age == 15\n",
        "  counter == 0\n",
        "  while age > counter\n",
        "    print('your age is below 15')\n",
        "    counter +2\n",
        "\n",
        "\n",
        "count = 0\n",
        "\n",
        "while count < 10:\n",
        "  print('print', count)\n",
        "  count = count + 1\n",
        "\n",
        "\n"
      ]
    },
    {
      "cell_type": "code",
      "source": [
        "#write a program (using while loop) that asks for an input number. Then print out \"Hello World! for the\n",
        "#number of times of the input number\n",
        "\n",
        "num = int(input(\"Enter an integer number: \"))\n",
        "count = 1\n",
        "while count <= num:\n",
        "  print (\"Hello World!\")\n",
        "  count += 1"
      ],
      "metadata": {
        "colab": {
          "base_uri": "https://localhost:8080/"
        },
        "id": "ynwhGRK_hJPo",
        "outputId": "c12febda-8ebc-4249-8154-24e975824d99"
      },
      "execution_count": 8,
      "outputs": [
        {
          "output_type": "stream",
          "name": "stdout",
          "text": [
            "Enter an integer number: 4\n",
            "Hello World!\n",
            "Hello World!\n",
            "Hello World!\n",
            "Hello World!\n"
          ]
        }
      ]
    },
    {
      "cell_type": "code",
      "source": [
        "n = int(input(\"Enter an interger number: \"))\n",
        "result = 0\n",
        "index = 0\n",
        "while (index <= n):\n",
        "  result = result + index\n",
        "  index += 1\n",
        "print(\"The sum of all numbers from 0 to\", n, \"is\", result )"
      ],
      "metadata": {
        "colab": {
          "base_uri": "https://localhost:8080/"
        },
        "id": "NMZHtADKhgZ5",
        "outputId": "be907b7f-d252-409a-ab7a-8961d7bf54b7"
      },
      "execution_count": 12,
      "outputs": [
        {
          "output_type": "stream",
          "name": "stdout",
          "text": [
            "Enter an interger number: 3\n",
            "The sum of all numbers from 0 to 3 is 6\n"
          ]
        }
      ]
    },
    {
      "cell_type": "code",
      "source": [
        "#lab4-3\n",
        "print(\"Vowel & Consonant Checker Program!\\n\")\n",
        "vowel_list = ['a', 'e', 'i', 'o', 'u', 'A', 'E', 'I', 'O', 'U']\n",
        "\n",
        "while (letter != \"exit\"):\n",
        "  letter = (input(\"Type a character or \\\"exit\\\" if you want to exit the program\\n\"))\n",
        "\n",
        "  if letter in vowel_list:\n",
        "    print(letter, \"is a vowel\")\n",
        "\n",
        "  elif letter == 'exit':\n",
        "    print(\"Thank you for using our program. Bye!\")\n",
        "\n",
        "  else:\n",
        "    print(letter, \"is a consonant\")\n"
      ],
      "metadata": {
        "colab": {
          "base_uri": "https://localhost:8080/"
        },
        "id": "mXyyXYB7mZiw",
        "outputId": "4b0f8a58-5d27-49af-f128-196511c565bf"
      },
      "execution_count": 43,
      "outputs": [
        {
          "output_type": "stream",
          "name": "stdout",
          "text": [
            "Vowel & Consonant Checker Program!\n",
            "\n"
          ]
        }
      ]
    },
    {
      "cell_type": "code",
      "source": [
        "#lab4-4\n",
        "student = int(input(\"How many students in the class? \"))\n",
        "num = 1\n",
        "sum = 0\n",
        "while (student >= num):\n",
        "  score = int(input(f\"Student #{num} quiz score:\" ))\n",
        "  num += 1\n",
        "  sum = sum + score\n",
        "average = sum/student\n",
        "print(\"Class average score:\", average)\n",
        "\n",
        "\n"
      ],
      "metadata": {
        "colab": {
          "base_uri": "https://localhost:8080/"
        },
        "id": "vbF2q3QPxpaO",
        "outputId": "180877fb-cbe3-4952-d58e-2c88b6531670"
      },
      "execution_count": 48,
      "outputs": [
        {
          "output_type": "stream",
          "name": "stdout",
          "text": [
            "How many students in the class? 9\n",
            "Student #1 quiz score:9\n",
            "Student #2 quiz score:9\n",
            "Student #3 quiz score:9\n",
            "Student #4 quiz score:9\n",
            "Student #5 quiz score:9\n",
            "Student #6 quiz score:9\n",
            "Student #7 quiz score:9\n",
            "Student #8 quiz score:9\n",
            "Student #9 quiz score:9\n",
            "Class average score: 9.0\n"
          ]
        }
      ]
    },
    {
      "cell_type": "code",
      "source": [
        "#lab4-5\n",
        "num = int(input(\"Enter a number to print the multiplication table: \"))\n",
        "multiplier = 1\n",
        "while (multiplier <= 10):\n",
        "  result = num * table\n",
        "  print(f\"{num} x {table} = {result}\")\n",
        "  multiplier += 1\n",
        "\n"
      ],
      "metadata": {
        "colab": {
          "base_uri": "https://localhost:8080/"
        },
        "id": "AqLkCwsl3saE",
        "outputId": "d2b64d07-29c8-42e2-efc5-5a856ed8f80c"
      },
      "execution_count": 46,
      "outputs": [
        {
          "output_type": "stream",
          "name": "stdout",
          "text": [
            "Enter a number to print the multiplication table: 2\n",
            "2 x 11 = 22\n",
            "2 x 11 = 22\n",
            "2 x 11 = 22\n",
            "2 x 11 = 22\n",
            "2 x 11 = 22\n",
            "2 x 11 = 22\n",
            "2 x 11 = 22\n",
            "2 x 11 = 22\n",
            "2 x 11 = 22\n",
            "2 x 11 = 22\n"
          ]
        }
      ]
    },
    {
      "cell_type": "code",
      "source": [
        "!pip install ColabTurtlePlus\n",
        "import ColabTurtlePlus.Turtle as turtle\n",
        "\n",
        "turtle.initializeTurtle()\n",
        "turtle.setup(400,250) # x-400, y=250\n",
        "turtle.speed(10)\n",
        "turtle.color('red')\n",
        "\n",
        "h = turtle.window_height()\n",
        "line_length = 5\n",
        "\n",
        "while line_length < h:\n",
        "  turtle.left(90)\n",
        "  turtle.forward(line_length)\n",
        "  line_length = line_length + 5\n",
        "\n",
        "turtle.done()\n"
      ],
      "metadata": {
        "colab": {
          "base_uri": "https://localhost:8080/",
          "height": 289
        },
        "id": "mrZo64eG676s",
        "outputId": "1a2e9e5b-defb-4647-c508-86c7dfeb0795"
      },
      "execution_count": 57,
      "outputs": [
        {
          "output_type": "stream",
          "name": "stdout",
          "text": [
            "Requirement already satisfied: ColabTurtlePlus in /usr/local/lib/python3.10/dist-packages (2.0.1)\n"
          ]
        },
        {
          "output_type": "display_data",
          "data": {
            "text/plain": [
              "<IPython.core.display.HTML object>"
            ],
            "text/html": [
              "\n",
              "      <svg width=\"400\" height=\"250\">  \n",
              "        <rect width=\"100%\" height=\"100%\" style=\"fill:white;stroke:;stroke-width:1\"/>\n",
              "        \n",
              "        \n",
              "        <line x1=\"200.0\" y1=\"125.0\" x2=\"200.0\" y2=\"120.0\" stroke-linecap=\"round\" style=\"stroke:red;stroke-width:1\" /><line x1=\"200.0\" y1=\"120.0\" x2=\"190.0\" y2=\"120.0\" stroke-linecap=\"round\" style=\"stroke:red;stroke-width:1\" /><line x1=\"190.0\" y1=\"120.0\" x2=\"190.0\" y2=\"135.0\" stroke-linecap=\"round\" style=\"stroke:red;stroke-width:1\" /><line x1=\"190.0\" y1=\"135.0\" x2=\"210.0\" y2=\"135.0\" stroke-linecap=\"round\" style=\"stroke:red;stroke-width:1\" /><line x1=\"210.0\" y1=\"135.0\" x2=\"210.0\" y2=\"110.0\" stroke-linecap=\"round\" style=\"stroke:red;stroke-width:1\" /><line x1=\"210.0\" y1=\"110.0\" x2=\"180.0\" y2=\"110.0\" stroke-linecap=\"round\" style=\"stroke:red;stroke-width:1\" /><line x1=\"180.0\" y1=\"110.0\" x2=\"180.0\" y2=\"145.0\" stroke-linecap=\"round\" style=\"stroke:red;stroke-width:1\" /><line x1=\"180.0\" y1=\"145.0\" x2=\"220.0\" y2=\"145.0\" stroke-linecap=\"round\" style=\"stroke:red;stroke-width:1\" /><line x1=\"220.0\" y1=\"145.0\" x2=\"220.0\" y2=\"100.0\" stroke-linecap=\"round\" style=\"stroke:red;stroke-width:1\" /><line x1=\"220.0\" y1=\"100.0\" x2=\"170.0\" y2=\"100.0\" stroke-linecap=\"round\" style=\"stroke:red;stroke-width:1\" /><line x1=\"170.0\" y1=\"100.0\" x2=\"170.0\" y2=\"155.0\" stroke-linecap=\"round\" style=\"stroke:red;stroke-width:1\" /><line x1=\"170.0\" y1=\"155.0\" x2=\"230.0\" y2=\"155.0\" stroke-linecap=\"round\" style=\"stroke:red;stroke-width:1\" /><line x1=\"230.0\" y1=\"155.0\" x2=\"230.0\" y2=\"90.0\" stroke-linecap=\"round\" style=\"stroke:red;stroke-width:1\" /><line x1=\"230.0\" y1=\"90.0\" x2=\"160.0\" y2=\"90.0\" stroke-linecap=\"round\" style=\"stroke:red;stroke-width:1\" /><line x1=\"160.0\" y1=\"90.0\" x2=\"160.0\" y2=\"165.0\" stroke-linecap=\"round\" style=\"stroke:red;stroke-width:1\" /><line x1=\"160.0\" y1=\"165.0\" x2=\"240.0\" y2=\"165.0\" stroke-linecap=\"round\" style=\"stroke:red;stroke-width:1\" /><line x1=\"240.0\" y1=\"165.0\" x2=\"240.0\" y2=\"80.0\" stroke-linecap=\"round\" style=\"stroke:red;stroke-width:1\" /><line x1=\"240.0\" y1=\"80.0\" x2=\"150.0\" y2=\"80.0\" stroke-linecap=\"round\" style=\"stroke:red;stroke-width:1\" /><line x1=\"150.0\" y1=\"80.0\" x2=\"150.0\" y2=\"175.0\" stroke-linecap=\"round\" style=\"stroke:red;stroke-width:1\" /><line x1=\"150.0\" y1=\"175.0\" x2=\"250.0\" y2=\"175.0\" stroke-linecap=\"round\" style=\"stroke:red;stroke-width:1\" /><line x1=\"250.0\" y1=\"175.0\" x2=\"250.0\" y2=\"70.0\" stroke-linecap=\"round\" style=\"stroke:red;stroke-width:1\" /><line x1=\"250.0\" y1=\"70.0\" x2=\"140.0\" y2=\"70.0\" stroke-linecap=\"round\" style=\"stroke:red;stroke-width:1\" /><line x1=\"140.0\" y1=\"70.0\" x2=\"140.0\" y2=\"185.0\" stroke-linecap=\"round\" style=\"stroke:red;stroke-width:1\" /><line x1=\"140.0\" y1=\"185.0\" x2=\"260.0\" y2=\"185.0\" stroke-linecap=\"round\" style=\"stroke:red;stroke-width:1\" /><line x1=\"260.0\" y1=\"185.0\" x2=\"260.0\" y2=\"60.0\" stroke-linecap=\"round\" style=\"stroke:red;stroke-width:1\" /><line x1=\"260.0\" y1=\"60.0\" x2=\"130.0\" y2=\"60.0\" stroke-linecap=\"round\" style=\"stroke:red;stroke-width:1\" /><line x1=\"130.0\" y1=\"60.0\" x2=\"130.0\" y2=\"195.0\" stroke-linecap=\"round\" style=\"stroke:red;stroke-width:1\" /><line x1=\"130.0\" y1=\"195.0\" x2=\"270.0\" y2=\"195.0\" stroke-linecap=\"round\" style=\"stroke:red;stroke-width:1\" /><line x1=\"270.0\" y1=\"195.0\" x2=\"270.0\" y2=\"50.0\" stroke-linecap=\"round\" style=\"stroke:red;stroke-width:1\" /><line x1=\"270.0\" y1=\"50.0\" x2=\"120.0\" y2=\"50.0\" stroke-linecap=\"round\" style=\"stroke:red;stroke-width:1\" /><line x1=\"120.0\" y1=\"50.0\" x2=\"120.0\" y2=\"205.0\" stroke-linecap=\"round\" style=\"stroke:red;stroke-width:1\" /><line x1=\"120.0\" y1=\"205.0\" x2=\"280.0\" y2=\"205.0\" stroke-linecap=\"round\" style=\"stroke:red;stroke-width:1\" /><line x1=\"280.0\" y1=\"205.0\" x2=\"280.0\" y2=\"40.0\" stroke-linecap=\"round\" style=\"stroke:red;stroke-width:1\" /><line x1=\"280.0\" y1=\"40.0\" x2=\"110.0\" y2=\"40.0\" stroke-linecap=\"round\" style=\"stroke:red;stroke-width:1\" /><line x1=\"110.0\" y1=\"40.0\" x2=\"110.0\" y2=\"215.0\" stroke-linecap=\"round\" style=\"stroke:red;stroke-width:1\" /><line x1=\"110.0\" y1=\"215.0\" x2=\"290.0\" y2=\"215.0\" stroke-linecap=\"round\" style=\"stroke:red;stroke-width:1\" /><line x1=\"290.0\" y1=\"215.0\" x2=\"290.0\" y2=\"30.0\" stroke-linecap=\"round\" style=\"stroke:red;stroke-width:1\" /><line x1=\"290.0\" y1=\"30.0\" x2=\"100.0\" y2=\"30.0\" stroke-linecap=\"round\" style=\"stroke:red;stroke-width:1\" /><line x1=\"100.0\" y1=\"30.0\" x2=\"100.0\" y2=\"225.0\" stroke-linecap=\"round\" style=\"stroke:red;stroke-width:1\" /><line x1=\"100.0\" y1=\"225.0\" x2=\"300.0\" y2=\"225.0\" stroke-linecap=\"round\" style=\"stroke:red;stroke-width:1\" /><line x1=\"300.0\" y1=\"225.0\" x2=\"300.0\" y2=\"20.0\" stroke-linecap=\"round\" style=\"stroke:red;stroke-width:1\" /><line x1=\"300.0\" y1=\"20.0\" x2=\"90.0\" y2=\"20.0\" stroke-linecap=\"round\" style=\"stroke:red;stroke-width:1\" /><line x1=\"90.0\" y1=\"20.0\" x2=\"90.0\" y2=\"235.0\" stroke-linecap=\"round\" style=\"stroke:red;stroke-width:1\" /><line x1=\"90.0\" y1=\"235.0\" x2=\"310.0\" y2=\"235.0\" stroke-linecap=\"round\" style=\"stroke:red;stroke-width:1\" /><line x1=\"310.0\" y1=\"235.0\" x2=\"310.0\" y2=\"10.0\" stroke-linecap=\"round\" style=\"stroke:red;stroke-width:1\" /><line x1=\"310.0\" y1=\"10.0\" x2=\"80.0\" y2=\"10.0\" stroke-linecap=\"round\" style=\"stroke:red;stroke-width:1\" /><line x1=\"80.0\" y1=\"10.0\" x2=\"80.0\" y2=\"245.0\" stroke-linecap=\"round\" style=\"stroke:red;stroke-width:1\" /><line x1=\"80.0\" y1=\"245.0\" x2=\"320.0\" y2=\"245.0\" stroke-linecap=\"round\" style=\"stroke:red;stroke-width:1\" /><line x1=\"320.0\" y1=\"245.0\" x2=\"320.0\" y2=\"0.0\" stroke-linecap=\"round\" style=\"stroke:red;stroke-width:1\" />\n",
              "        \n",
              "        \n",
              "        <g id=\"classic\" visibility=\"visible\" transform=\"rotate(180,320.0,0.0) translate(320.0, 0.0)\">\n",
              "<polygon points=\"-5,-4.5 0,-2.5 5,-4.5 0,4.5\" transform=\"skewX(0) scale(1,1)\" style=\"stroke:red;fill:red;stroke-width:1\" />\n",
              "</g>\n",
              "      </svg>\n",
              "    "
            ]
          },
          "metadata": {}
        }
      ]
    }
  ]
}