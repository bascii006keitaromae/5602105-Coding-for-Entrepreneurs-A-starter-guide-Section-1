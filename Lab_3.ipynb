{
  "nbformat": 4,
  "nbformat_minor": 0,
  "metadata": {
    "colab": {
      "provenance": [],
      "authorship_tag": "ABX9TyNpdRDaz0IYSh8QihBD5kS8",
      "include_colab_link": true
    },
    "kernelspec": {
      "name": "python3",
      "display_name": "Python 3"
    },
    "language_info": {
      "name": "python"
    }
  },
  "cells": [
    {
      "cell_type": "markdown",
      "metadata": {
        "id": "view-in-github",
        "colab_type": "text"
      },
      "source": [
        "<a href=\"https://colab.research.google.com/github/bascii006keitaromae/5602105-Coding-for-Entrepreneurs-A-starter-guide-Section-1/blob/main/Lab_3.ipynb\" target=\"_parent\"><img src=\"https://colab.research.google.com/assets/colab-badge.svg\" alt=\"Open In Colab\"/></a>"
      ]
    },
    {
      "cell_type": "code",
      "execution_count": null,
      "metadata": {
        "id": "YYrX3He1AUcV",
        "colab": {
          "base_uri": "https://localhost:8080/"
        },
        "outputId": "9afc553f-0c5a-4448-9e6f-4c6e7d8d9d54"
      },
      "outputs": [
        {
          "output_type": "stream",
          "name": "stdout",
          "text": [
            "How old are you? \n",
            "29\n",
            "You may drive\n",
            "You may vote\n",
            "You may get married\n",
            "You may run for a general election\n"
          ]
        }
      ],
      "source": [
        "#Lab 3-1\n",
        "age = int(input(\"How old are you? \\n\"))\n",
        "if age >= 18:\n",
        "  print(\"You may drive\")\n",
        "  print(\"You may vote\")\n",
        "if age >= 20:\n",
        "  print(\"You may get married\")\n",
        "if age > 25:\n",
        "  print(\"You may run for a general election\")\n",
        "if age < 18:\n",
        "  print(\"Enjoy your youth\")"
      ]
    },
    {
      "cell_type": "code",
      "source": [
        "#Lab 3-2\n",
        "username = input(\"Username: \")\n",
        "password = input(\"Password: \")\n",
        "if (username == \"admin\") and (password == \"strongpw\"):\n",
        "  print(\"Access Granted!\")\n",
        "else:\n",
        "  print(\"Access Denied\")"
      ],
      "metadata": {
        "colab": {
          "base_uri": "https://localhost:8080/"
        },
        "id": "fkLshosiQ3ok",
        "outputId": "1e450ce0-80a9-4e3d-9e47-0221df9847f9"
      },
      "execution_count": null,
      "outputs": [
        {
          "output_type": "stream",
          "name": "stdout",
          "text": [
            "Username: kei\n",
            "Password: mae\n",
            "Access Denied\n"
          ]
        }
      ]
    },
    {
      "cell_type": "code",
      "source": [
        "#Lab 3-3\n",
        "name1 = str(input(\"Enter a name: \"))\n",
        "name2 = str(input(\"Enter another name: \"))\n",
        "mylist = [name1, name2]\n",
        "mylist.sort()\n",
        "\n",
        "print(\"Here are the names, listed alphabetically: \")\n",
        "print(mylist)"
      ],
      "metadata": {
        "colab": {
          "base_uri": "https://localhost:8080/"
        },
        "id": "7nlQelXeR1wQ",
        "outputId": "8096e9e3-1287-4127-cce1-a211362d6d86"
      },
      "execution_count": null,
      "outputs": [
        {
          "output_type": "stream",
          "name": "stdout",
          "text": [
            "Enter a name: zoo\n",
            "Enter another name: apple\n",
            "Here are the names, listed alphabetically: \n",
            "['apple', 'zoo']\n"
          ]
        }
      ]
    },
    {
      "cell_type": "code",
      "source": [
        "#Lab 3-4\n",
        "num = int(input(\"Enter a number: \"))\n",
        "if num < 0:\n",
        "  print(\"Negative Number\")\n",
        "elif num == 0:\n",
        "  print(\"Zero\")\n",
        "else:\n",
        "  print(\"Positive Number\")"
      ],
      "metadata": {
        "colab": {
          "base_uri": "https://localhost:8080/"
        },
        "id": "1exw3gG4VJiD",
        "outputId": "2706b01c-54c1-4870-98af-15b3ab8d0757"
      },
      "execution_count": null,
      "outputs": [
        {
          "output_type": "stream",
          "name": "stdout",
          "text": [
            "Enter a number: 0\n",
            "Zero\n"
          ]
        }
      ]
    },
    {
      "cell_type": "code",
      "source": [
        "#Lab 3-5\n",
        "num = int(input(\"Enter your score: \"))\n",
        "\n",
        "if 90 <= num <= 100:\n",
        "  print(\"Your grade is A\")\n",
        "elif 80 <= num <= 89:\n",
        "  print(\"Your grade is B\")\n",
        "elif 70 <= num <= 79:\n",
        "  print(\"Your grade is C\")\n",
        "elif 60 <= num <= 69:\n",
        "  print(\"Your grade is D\")\n",
        "elif num < 60:\n",
        "  print(\"Your grade is F\")\n",
        "else:\n",
        "  print(\"Please input a number between 0-100\")"
      ],
      "metadata": {
        "colab": {
          "base_uri": "https://localhost:8080/"
        },
        "id": "3cdPXMBgVlEt",
        "outputId": "3e205aaf-cc79-4855-ec87-4ccc8911c80b"
      },
      "execution_count": null,
      "outputs": [
        {
          "output_type": "stream",
          "name": "stdout",
          "text": [
            "Enter your score: 2\n",
            "Your grade is F\n"
          ]
        }
      ]
    }
  ]
}