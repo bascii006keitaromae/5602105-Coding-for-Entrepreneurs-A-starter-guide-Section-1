{
  "nbformat": 4,
  "nbformat_minor": 0,
  "metadata": {
    "colab": {
      "provenance": [],
      "authorship_tag": "ABX9TyOfhuG7ITXygd/ihBzjeKUC",
      "include_colab_link": true
    },
    "kernelspec": {
      "name": "python3",
      "display_name": "Python 3"
    },
    "language_info": {
      "name": "python"
    }
  },
  "cells": [
    {
      "cell_type": "markdown",
      "metadata": {
        "id": "view-in-github",
        "colab_type": "text"
      },
      "source": [
        "<a href=\"https://colab.research.google.com/github/bascii006keitaromae/5602105-Coding-for-Entrepreneurs-A-starter-guide-Section-1/blob/main/lab5.ipynb\" target=\"_parent\"><img src=\"https://colab.research.google.com/assets/colab-badge.svg\" alt=\"Open In Colab\"/></a>"
      ]
    },
    {
      "cell_type": "code",
      "execution_count": null,
      "metadata": {
        "colab": {
          "base_uri": "https://localhost:8080/"
        },
        "id": "Q1ZAaeGUcB7Z",
        "outputId": "030a9235-aded-4a59-e452-0241116fde25"
      },
      "outputs": [
        {
          "output_type": "stream",
          "name": "stdout",
          "text": [
            "Number\tSquare\n",
            "--------------\n",
            "1 \t 1\n",
            "2 \t 4\n",
            "3 \t 9\n",
            "4 \t 16\n",
            "5 \t 25\n",
            "6 \t 36\n",
            "7 \t 49\n",
            "8 \t 64\n",
            "9 \t 81\n",
            "10 \t 100\n"
          ]
        }
      ],
      "source": [
        "for num in range(1,5):\n",
        "    print(num)\n",
        "\n",
        "for num in range(1, 10, 3):\n",
        "  print(num)\n",
        "\n",
        "print('Number\\tSquare')\n",
        "print('--------------')\n",
        "\n",
        "for number in range(1, 11):\n",
        "  square = number**2\n",
        "  print(number, '\\t', square)"
      ]
    },
    {
      "cell_type": "code",
      "source": [
        "for x in range(6):\n",
        "  print('I love to progran!')\n",
        "\n",
        "for num in range(6):\n",
        "  print(num)\n",
        "\n",
        "for num in range(2, 6):\n",
        "  print(num)\n",
        "\n",
        "for num in range(0, 501, 100):\n",
        "  print(num)"
      ],
      "metadata": {
        "colab": {
          "base_uri": "https://localhost:8080/"
        },
        "id": "-IgXAhcjfGxK",
        "outputId": "9ebdf828-59d3-4700-8c75-024cbbe11e29"
      },
      "execution_count": null,
      "outputs": [
        {
          "output_type": "stream",
          "name": "stdout",
          "text": [
            "I love to progran!\n",
            "I love to progran!\n",
            "I love to progran!\n",
            "I love to progran!\n",
            "I love to progran!\n",
            "I love to progran!\n",
            "0\n",
            "1\n",
            "2\n",
            "3\n",
            "4\n",
            "5\n",
            "2\n",
            "3\n",
            "4\n",
            "5\n",
            "0\n",
            "100\n",
            "200\n",
            "300\n",
            "400\n",
            "500\n"
          ]
        }
      ]
    },
    {
      "cell_type": "code",
      "source": [
        "!pip install ColabTurtlePlus\n",
        "import ColabTurtlePlus.Turtle as turtle\n",
        "\n",
        "for x in range(8):\n",
        "  turtle.forward(100)\n",
        "  turtle.right(45)\n"
      ],
      "metadata": {
        "colab": {
          "base_uri": "https://localhost:8080/",
          "height": 839
        },
        "id": "Jwc9S740gWhy",
        "outputId": "ae5a4fb0-f705-4026-abf7-b48f0622bcad"
      },
      "execution_count": null,
      "outputs": [
        {
          "output_type": "stream",
          "name": "stdout",
          "text": [
            "Requirement already satisfied: ColabTurtlePlus in /usr/local/lib/python3.10/dist-packages (2.0.1)\n"
          ]
        },
        {
          "output_type": "display_data",
          "data": {
            "text/plain": [
              "<IPython.core.display.HTML object>"
            ],
            "text/html": [
              "\n",
              "      <svg width=\"400\" height=\"800\">  \n",
              "        <rect width=\"100%\" height=\"100%\" style=\"fill:white;stroke:;stroke-width:1\"/>\n",
              "        \n",
              "        \n",
              "        <line x1=\"200.0\" y1=\"400.0\" x2=\"300.0\" y2=\"400.0\" stroke-linecap=\"round\" style=\"stroke:black;stroke-width:1\" /><line x1=\"300.0\" y1=\"400.0\" x2=\"370.711\" y2=\"470.711\" stroke-linecap=\"round\" style=\"stroke:black;stroke-width:1\" /><line x1=\"370.711\" y1=\"470.711\" x2=\"370.711\" y2=\"570.711\" stroke-linecap=\"round\" style=\"stroke:black;stroke-width:1\" /><line x1=\"370.711\" y1=\"570.711\" x2=\"300.0\" y2=\"641.422\" stroke-linecap=\"round\" style=\"stroke:black;stroke-width:1\" /><line x1=\"300.0\" y1=\"641.422\" x2=\"200.0\" y2=\"641.422\" stroke-linecap=\"round\" style=\"stroke:black;stroke-width:1\" /><line x1=\"200.0\" y1=\"641.422\" x2=\"129.289\" y2=\"570.711\" stroke-linecap=\"round\" style=\"stroke:black;stroke-width:1\" /><line x1=\"129.289\" y1=\"570.711\" x2=\"129.289\" y2=\"470.711\" stroke-linecap=\"round\" style=\"stroke:black;stroke-width:1\" /><line x1=\"129.289\" y1=\"470.711\" x2=\"200.0\" y2=\"400.0\" stroke-linecap=\"round\" style=\"stroke:black;stroke-width:1\" /><line x1=\"200.0\" y1=\"400.0\" x2=\"300.0\" y2=\"400.0\" stroke-linecap=\"round\" style=\"stroke:black;stroke-width:1\" /><line x1=\"300.0\" y1=\"400.0\" x2=\"370.711\" y2=\"470.711\" stroke-linecap=\"round\" style=\"stroke:black;stroke-width:1\" /><line x1=\"370.711\" y1=\"470.711\" x2=\"370.711\" y2=\"570.711\" stroke-linecap=\"round\" style=\"stroke:black;stroke-width:1\" /><line x1=\"370.711\" y1=\"570.711\" x2=\"300.0\" y2=\"641.422\" stroke-linecap=\"round\" style=\"stroke:black;stroke-width:1\" /><line x1=\"300.0\" y1=\"641.422\" x2=\"200.0\" y2=\"641.422\" stroke-linecap=\"round\" style=\"stroke:black;stroke-width:1\" /><line x1=\"200.0\" y1=\"641.422\" x2=\"129.289\" y2=\"570.711\" stroke-linecap=\"round\" style=\"stroke:black;stroke-width:1\" /><line x1=\"129.289\" y1=\"570.711\" x2=\"129.289\" y2=\"470.711\" stroke-linecap=\"round\" style=\"stroke:black;stroke-width:1\" /><line x1=\"129.289\" y1=\"470.711\" x2=\"200.0\" y2=\"400.0\" stroke-linecap=\"round\" style=\"stroke:black;stroke-width:1\" />\n",
              "        \n",
              "        \n",
              "        <g id=\"classic\" visibility=\"visible\" transform=\"rotate(225,200.0,400.0) translate(200.0, 400.0)\">\n",
              "<polygon points=\"-5,-4.5 0,-2.5 5,-4.5 0,4.5\" transform=\"skewX(0) scale(1,1)\" style=\"stroke:black;fill:black;stroke-width:1\" />\n",
              "<animateTransform id = \"one\" attributeName=\"transform\" \n",
              "                      type=\"scale\"\n",
              "                      from=\"1 1\" to=\"1 1\"\n",
              "                      begin=\"0s\" dur=\"0.01s\"\n",
              "                      repeatCount=\"1\"\n",
              "                      additive=\"sum\"\n",
              "                      fill=\"freeze\"\n",
              "                /><animateTransform attributeName=\"transform\"\n",
              "                    type=\"rotate\"\n",
              "                    from=\"0 0 0\" to =\"45 0 0\"\n",
              "                    begin=\"one.end\" dur=\"0.125s\"\n",
              "                    repeatCount=\"1\"\n",
              "                    additive=\"sum\"\n",
              "                    fill=\"freeze\"\n",
              "                /></g>\n",
              "      </svg>\n",
              "    "
            ]
          },
          "metadata": {}
        }
      ]
    },
    {
      "cell_type": "code",
      "source": [
        "!pip install ColabTurtlePlus\n",
        "import ColabTurtlePlus.Turtle as turtle\n",
        "\n",
        "NUM_CIRCLES = 36\n",
        "RADIOUS = 100\n",
        "ANGLE = 10\n",
        "ANIMATION_SPEED = 0\n",
        "\n",
        "turtle.speed(ANIMATION_SPEED)\n",
        "\n",
        "for x in range(NUM_CIRCLES):\n",
        "  turtle.circle(RADIOUS)\n",
        "  turtle.left(ANGLE)"
      ],
      "metadata": {
        "colab": {
          "base_uri": "https://localhost:8080/"
        },
        "id": "RDAFjoRbhSsT",
        "outputId": "8fdfcaf7-b8c9-4e85-fe2b-21c22264ec1c"
      },
      "execution_count": null,
      "outputs": [
        {
          "output_type": "stream",
          "name": "stdout",
          "text": [
            "Requirement already satisfied: ColabTurtlePlus in /usr/local/lib/python3.10/dist-packages (2.0.1)\n"
          ]
        }
      ]
    },
    {
      "cell_type": "code",
      "source": [
        "#lab5-1\n",
        "num = int(input(\"Enter a number: \"))\n",
        "\n",
        "for x in range(num):\n",
        "  print(\"Hello World!\")"
      ],
      "metadata": {
        "colab": {
          "base_uri": "https://localhost:8080/"
        },
        "id": "NqtA2Dp6iLdH",
        "outputId": "242c279a-8add-439a-b3e6-a78d352a18e3"
      },
      "execution_count": null,
      "outputs": [
        {
          "output_type": "stream",
          "name": "stdout",
          "text": [
            "Enter a number: 5\n",
            "Hello World!\n",
            "Hello World!\n",
            "Hello World!\n",
            "Hello World!\n",
            "Hello World!\n"
          ]
        }
      ]
    },
    {
      "cell_type": "code",
      "source": [
        "#lab5-2\n",
        "end = int(input(\"Enter an integer number: \"))\n",
        "result = 0\n",
        "\n",
        "for i in range(end+1):\n",
        "  result += i\n",
        "\n",
        "print(\"The sum of all numbers from 0 to\", end ,\"is\", result)"
      ],
      "metadata": {
        "colab": {
          "base_uri": "https://localhost:8080/"
        },
        "id": "bPLvXC4wi7fV",
        "outputId": "eb962748-ecd0-4681-a992-4a5f25baff73"
      },
      "execution_count": null,
      "outputs": [
        {
          "output_type": "stream",
          "name": "stdout",
          "text": [
            "Enter an integer number: 7\n",
            "The sum of all numbers from 0 to 7 is 28\n"
          ]
        }
      ]
    },
    {
      "cell_type": "code",
      "source": [
        "#lab5-3\n",
        "start = int(input(\"Enter the starting number: \"))\n",
        "end = int(input(\"Enter the ending number: \"))\n",
        "result = 0\n",
        "\n",
        "for i in range(start, end+1):\n",
        "  result += i\n",
        "\n",
        "print(\"The sum of all numbers from\",start,\"to\",end,\"is\",result )"
      ],
      "metadata": {
        "colab": {
          "base_uri": "https://localhost:8080/"
        },
        "id": "RoxFFxdFlYYS",
        "outputId": "683c123b-6073-4e5a-91d2-b482d21863f2"
      },
      "execution_count": null,
      "outputs": [
        {
          "output_type": "stream",
          "name": "stdout",
          "text": [
            "Enter the starting number: 9\n",
            "Enter the ending number: 12\n",
            "The sum of all numbers from 9 to 12 is 42\n"
          ]
        }
      ]
    },
    {
      "cell_type": "code",
      "source": [
        "#lab5-4\n",
        "num = int(input(\"Enter a number to print the multiplication table: \"))\n",
        "result = 1\n",
        "\n",
        "print(\"The multiplication Table of: \",num)\n",
        "\n",
        "for i in range(1, 13):\n",
        "  result = num*i\n",
        "  print(num,\"x\",i,\"=\",result)\n",
        "\n"
      ],
      "metadata": {
        "colab": {
          "base_uri": "https://localhost:8080/"
        },
        "id": "81Q60z31mpF0",
        "outputId": "b7e0e269-dec6-49c7-995a-cbe46c02cac7"
      },
      "execution_count": null,
      "outputs": [
        {
          "output_type": "stream",
          "name": "stdout",
          "text": [
            "Enter a number to print the multiplication table: 6\n",
            "The multiplication Table of:  6\n",
            "6 x 1 = 6\n",
            "6 x 2 = 12\n",
            "6 x 3 = 18\n",
            "6 x 4 = 24\n",
            "6 x 5 = 30\n",
            "6 x 6 = 36\n",
            "6 x 7 = 42\n",
            "6 x 8 = 48\n",
            "6 x 9 = 54\n",
            "6 x 10 = 60\n",
            "6 x 11 = 66\n",
            "6 x 12 = 72\n"
          ]
        }
      ]
    },
    {
      "cell_type": "code",
      "source": [
        "#lab5-5\n",
        "quiz = int(input(\"How many quizzes do we have? \"))\n",
        "total = 0.0\n",
        "for i in range(quiz):\n",
        "  score = int(input(f\"Score of Quiz# {i+1}: \"))\n",
        "  total += score\n",
        "\n",
        "average = total/quiz\n",
        "print(\"--------------\")\n",
        "print(f\"Average Quiz Score: {average:.2f}\")"
      ],
      "metadata": {
        "colab": {
          "base_uri": "https://localhost:8080/"
        },
        "id": "ILiv4Zm2n-jt",
        "outputId": "99b983cd-f624-41b8-c665-196be5b96a65"
      },
      "execution_count": null,
      "outputs": [
        {
          "output_type": "stream",
          "name": "stdout",
          "text": [
            "How many quizzes do we have? 5\n",
            "Score of Quiz# 1: 4\n",
            "Score of Quiz# 2: 4\n",
            "Score of Quiz# 3: 4\n",
            "Score of Quiz# 4: 4\n",
            "Score of Quiz# 5: 4\n",
            "--------------\n",
            "Average Quiz Score: 4.00\n"
          ]
        }
      ]
    },
    {
      "cell_type": "code",
      "source": [
        "#lab5-6\n",
        "n = int(input(\"Enter the #: \"))\n",
        "for r in range(n):\n",
        "  for c in range(r+1):\n",
        "    print(\"$\", end=\"\")\n",
        "  print()\n",
        "\n"
      ],
      "metadata": {
        "colab": {
          "base_uri": "https://localhost:8080/"
        },
        "id": "x2uG-oD9qOwQ",
        "outputId": "22b2e4d5-ab83-4d6f-b227-7f2edb7cb675"
      },
      "execution_count": null,
      "outputs": [
        {
          "output_type": "stream",
          "name": "stdout",
          "text": [
            "Enter the #: 5\n",
            "$\n",
            "$$\n",
            "$$$\n",
            "$$$$\n",
            "$$$$$\n"
          ]
        }
      ]
    },
    {
      "cell_type": "code",
      "source": [
        "row = int(input(\"Enter the # of rows: \"))\n",
        "col = int(input(\"Enter the # of columns: \"))\n",
        "\n",
        "for r in range(row):\n",
        "  for c in range(col):\n",
        "    print(\"$\", end=\"\")\n",
        "  print()"
      ],
      "metadata": {
        "colab": {
          "base_uri": "https://localhost:8080/"
        },
        "id": "ulrzuE-YsydB",
        "outputId": "c9fd980e-7528-42aa-c883-1e23a5e6764c"
      },
      "execution_count": null,
      "outputs": [
        {
          "output_type": "stream",
          "name": "stdout",
          "text": [
            "Enter the # of rows: 1\n",
            "Enter the # of columns: 5\n",
            "$$$$$\n"
          ]
        }
      ]
    }
  ]
}