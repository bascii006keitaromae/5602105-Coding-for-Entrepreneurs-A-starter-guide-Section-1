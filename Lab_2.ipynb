{
  "nbformat": 4,
  "nbformat_minor": 0,
  "metadata": {
    "colab": {
      "provenance": [],
      "authorship_tag": "ABX9TyNJoBqhJaWXcuttYWCrGFr/",
      "include_colab_link": true
    },
    "kernelspec": {
      "name": "python3",
      "display_name": "Python 3"
    },
    "language_info": {
      "name": "python"
    }
  },
  "cells": [
    {
      "cell_type": "markdown",
      "metadata": {
        "id": "view-in-github",
        "colab_type": "text"
      },
      "source": [
        "<a href=\"https://colab.research.google.com/github/bascii006keitaromae/5602105-Coding-for-Entrepreneurs-A-starter-guide-Section-1/blob/main/Lab_2.ipynb\" target=\"_parent\"><img src=\"https://colab.research.google.com/assets/colab-badge.svg\" alt=\"Open In Colab\"/></a>"
      ]
    },
    {
      "cell_type": "code",
      "execution_count": null,
      "metadata": {
        "id": "8fQ59IWH2Ble",
        "colab": {
          "base_uri": "https://localhost:8080/"
        },
        "outputId": "c2b766dd-fe17-4da2-a147-f36c0ad6211a"
      },
      "outputs": [
        {
          "output_type": "stream",
          "name": "stdout",
          "text": [
            "Exp#1: 5+2*4 = 13\n",
            "Exp#2: (5+2)*4 = 28\n",
            "Exp#3: 10/2-3 = 2.0\n",
            "Exp#4: 10/(5-3) = 5.0\n",
            "Exp#5: 8 + 12 * 2 - 4 = 28\n",
            "Exp#6: 8 + 12 * (6 - 2) = 56\n",
            "Exp#7: 6 - 3 * 2 + 7 - 1 = 6\n",
            "Exp#8: (6 - 3) * (2 + 7) / 3 = 9.0\n"
          ]
        }
      ],
      "source": [
        "#Lab 2-1\n",
        "v1 = 5 + 2 * 4\n",
        "print(\"Exp#1: 5+2*4 =\", v1)\n",
        "\n",
        "v2 = (5 + 2) * 4\n",
        "print(\"Exp#2: (5+2)*4 =\", v2)\n",
        "\n",
        "v3 = 10 / 2 - 3\n",
        "print(\"Exp#3: 10/2-3 =\", v3)\n",
        "\n",
        "v4 = 10 / (5 - 3)\n",
        "print(\"Exp#4: 10/(5-3) =\", v4)\n",
        "\n",
        "v5 = 8 + 12 * 2 - 4\n",
        "print(\"Exp#5: 8 + 12 * 2 - 4 =\", v5)\n",
        "\n",
        "v6 = 8 + 12 * (6 - 2)\n",
        "print(\"Exp#6: 8 + 12 * (6 - 2) =\", v6)\n",
        "\n",
        "v7 = 6 - 3 * 2 + 7 - 1\n",
        "print(\"Exp#7: 6 - 3 * 2 + 7 - 1 =\", v7)\n",
        "\n",
        "v8 = (6 - 3) * (2 + 7) / 3\n",
        "print(\"Exp#8: (6 - 3) * (2 + 7) / 3 =\", v8)"
      ]
    },
    {
      "cell_type": "code",
      "source": [
        "#Try: Calculate circumference of a circle\n",
        "import math\n",
        "r = 5\n",
        "c = 2 * math.pi * r\n",
        "print(\"Circumference of a circle with the radious\", r)\n",
        "print(\"=\", c)"
      ],
      "metadata": {
        "colab": {
          "base_uri": "https://localhost:8080/"
        },
        "id": "F2UNOlhI4bRq",
        "outputId": "d33b1c18-08dc-4450-d1de-b3e7f81f529b"
      },
      "execution_count": null,
      "outputs": [
        {
          "output_type": "stream",
          "name": "stdout",
          "text": [
            "Circumference of a circle with the radious 5\n",
            "= 31.41592653589793\n"
          ]
        }
      ]
    },
    {
      "cell_type": "code",
      "source": [
        "#Lab 2-2 Calculate the area of a circle\n",
        "import math\n",
        "radius = int(input(\"Enter a value of radius: \"))\n",
        "area = math.pi * (r ** 2)\n",
        "print(\"The area of the circle is\",area)"
      ],
      "metadata": {
        "colab": {
          "base_uri": "https://localhost:8080/"
        },
        "id": "VFOP8KoU43Ee",
        "outputId": "144f1faa-b99f-4859-c866-7dacaab5e8ec"
      },
      "execution_count": null,
      "outputs": [
        {
          "output_type": "stream",
          "name": "stdout",
          "text": [
            "Enter a value of radius: 4\n",
            "The area of the circle is 78.53981633974483\n"
          ]
        }
      ]
    },
    {
      "cell_type": "code",
      "source": [
        "#Lab 2-3: Calculate a sale price (20% discount)\n",
        "original = int(input(\"Enter a price: \"))\n",
        "discount = original * 0.8\n",
        "print(\"discounted price of\", original, \"is\", discount)"
      ],
      "metadata": {
        "colab": {
          "base_uri": "https://localhost:8080/"
        },
        "id": "Qi1EyWd16zXF",
        "outputId": "db7efaed-7e29-4861-b04a-453e281905bd"
      },
      "execution_count": null,
      "outputs": [
        {
          "output_type": "stream",
          "name": "stdout",
          "text": [
            "Enter a price: 100\n",
            "discounted price of 100 is 80.0\n"
          ]
        }
      ]
    },
    {
      "cell_type": "code",
      "source": [
        "#Lab 2-4: Calculate an average\n",
        "first = int(input(\"Enter the first test score: \"))\n",
        "second = int(input(\"Enter the second test score: \"))\n",
        "third = int(input(\"Enter the third test score: \"))\n",
        "average = (first + second + third) / 3\n",
        "print(\"The average score is: \", average)"
      ],
      "metadata": {
        "colab": {
          "base_uri": "https://localhost:8080/"
        },
        "id": "xL3b7_Kh7KmK",
        "outputId": "971a308f-5aab-4b92-e09e-11c500c3b744"
      },
      "execution_count": null,
      "outputs": [
        {
          "output_type": "stream",
          "name": "stdout",
          "text": [
            "Enter the first test score: 90\n",
            "Enter the second test score: 80\n",
            "Enter the third test score: 90\n",
            "The average score is:  86.66666666666667\n"
          ]
        }
      ]
    },
    {
      "cell_type": "code",
      "source": [
        "#Lab 2-5: Annual Salary Calculation\n",
        "sal = float(input(\"Enter your monthly salary: \"))\n",
        "ann = sal * 12\n",
        "print(f'Your monthly salary is {sal:,.2f} and your annual salary is {ann:,.2f}')"
      ],
      "metadata": {
        "colab": {
          "base_uri": "https://localhost:8080/"
        },
        "id": "jUYO1p-y8FRy",
        "outputId": "b4833e42-2a54-477c-d76c-71252eb65274"
      },
      "execution_count": null,
      "outputs": [
        {
          "output_type": "stream",
          "name": "stdout",
          "text": [
            "Enter your monthly salary: 901.992\n",
            "Your monthly salary is 901.99 and your annual salary is 10,823.90\n"
          ]
        }
      ]
    },
    {
      "cell_type": "code",
      "source": [
        "#Lab 2-6:\n",
        "starter = \"S T A R T E R\"\n",
        "line1 = \"fresh mozzarella with grape\"\n",
        "line2 = \"tomatoes and basil\"\n",
        "main = \"M A I N\"\n",
        "line3 = \"grilled organic salmon\"\n",
        "dessert = \"D E S S E R T\"\n",
        "line4 = \"ice cream\"\n",
        "print(f\"{starter:^30}\", \"\\n\")\n",
        "print(f\"{line1:^30}\", \"\\n\")\n",
        "print(f\"{line2:^30}\", \"\\n\")\n",
        "print(f\"{main:^30}\", \"\\n\")\n",
        "print(f\"{line3:^30}\", \"\\n\")\n",
        "print(f\"{dessert:^30}\", \"\\n\")\n",
        "print(f\"{line4:^30}\", \"\\n\")"
      ],
      "metadata": {
        "colab": {
          "base_uri": "https://localhost:8080/"
        },
        "id": "_ZOH0qhp-S5-",
        "outputId": "1dff12ad-8699-46d8-cac4-8c1a1bedfc3f"
      },
      "execution_count": null,
      "outputs": [
        {
          "output_type": "stream",
          "name": "stdout",
          "text": [
            "        S T A R T E R          \n",
            "\n",
            " fresh mozzarella with grape   \n",
            "\n",
            "      tomatoes and basil       \n",
            "\n",
            "           M A I N             \n",
            "\n",
            "    grilled organic salmon     \n",
            "\n",
            "        D E S S E R T          \n",
            "\n",
            "          ice cream            \n",
            "\n"
          ]
        }
      ]
    }
  ]
}