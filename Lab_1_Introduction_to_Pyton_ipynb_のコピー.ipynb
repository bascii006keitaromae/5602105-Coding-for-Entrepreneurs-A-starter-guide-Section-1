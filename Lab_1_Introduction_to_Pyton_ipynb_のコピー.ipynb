{
  "nbformat": 4,
  "nbformat_minor": 0,
  "metadata": {
    "colab": {
      "provenance": [],
      "include_colab_link": true
    },
    "kernelspec": {
      "name": "python3",
      "display_name": "Python 3"
    },
    "language_info": {
      "name": "python"
    }
  },
  "cells": [
    {
      "cell_type": "markdown",
      "metadata": {
        "id": "view-in-github",
        "colab_type": "text"
      },
      "source": [
        "<a href=\"https://colab.research.google.com/github/bascii006keitaromae/5602105-Coding-for-Entrepreneurs-A-starter-guide-Section-1/blob/main/Lab_1_Introduction_to_Pyton_ipynb_%E3%81%AE%E3%82%B3%E3%83%94%E3%83%BC.ipynb\" target=\"_parent\"><img src=\"https://colab.research.google.com/assets/colab-badge.svg\" alt=\"Open In Colab\"/></a>"
      ]
    },
    {
      "cell_type": "markdown",
      "source": [
        "\n",
        "**Bachelor of Arts and Science in Integrated Innovation Chulalongkorn School of Integrated Innovation**\n",
        "\n",
        "*5602105 Coding for Entrepreneurs: Starter Guide*  \n",
        "\n",
        "# Lab 01: Introduction to Python"
      ],
      "metadata": {
        "id": "4lHfVoYgUQys"
      }
    },
    {
      "cell_type": "markdown",
      "source": [
        "# Exercise 1"
      ],
      "metadata": {
        "id": "tlY4ZjWAgLmR"
      }
    },
    {
      "cell_type": "markdown",
      "source": [
        "Type the following statement then click the ![Screenshot 2024-08-03 at 16.13.40.png](data:image/png;base64,iVBORw0KGgoAAAANSUhEUgAAAB8AAAAhCAYAAAAh3nDkAAABWWlDQ1BJQ0MgUHJvZmlsZQAAKJFtkD1Iw3AQxV/aSouKVnF0CE6KsZR+oGvtoEKFUL/FJU1iW0jTP2lECm6Cs5Ozg7g5ibajo4MuChXE0cFd6KI13r9R06oHx/14vDuOB/hCCmNGAEDJtK3s3Ky4vrEpBl8Qgh+DCCKqqBWWkuUMWfA9u6vZgMDn/RS/5TurnjcuryefZ8SxY/1i66+/q3o1vaLSfKeOqMyyAUEilndtxnmPeMSip4gPOeddPuGcc7ne9ixn08Q3xGG1oGjET8RSrkPPd3DJ2FG/fuDf9+vmyhLNYepRyJhHBiJimEYcq0hSPv/7E21/GmUwVGGhiDwKsGk3RQqDAZ14ASZURCC1b0apEzzn3/l5WvEASFL77jxNuwXqlEd40dPG94GhD+BqgCmW8pOq0AxUtuMxl/tqQM+R47yuAcEJoPXgOG81x2mdAv5H2m1+AldDY1D2hheHAAAAVmVYSWZNTQAqAAAACAABh2kABAAAAAEAAAAaAAAAAAADkoYABwAAABIAAABEoAIABAAAAAEAAAAfoAMABAAAAAEAAAAhAAAAAEFTQ0lJAAAAU2NyZWVuc2hvdGbh/F8AAAHUaVRYdFhNTDpjb20uYWRvYmUueG1wAAAAAAA8eDp4bXBtZXRhIHhtbG5zOng9ImFkb2JlOm5zOm1ldGEvIiB4OnhtcHRrPSJYTVAgQ29yZSA2LjAuMCI+CiAgIDxyZGY6UkRGIHhtbG5zOnJkZj0iaHR0cDovL3d3dy53My5vcmcvMTk5OS8wMi8yMi1yZGYtc3ludGF4LW5zIyI+CiAgICAgIDxyZGY6RGVzY3JpcHRpb24gcmRmOmFib3V0PSIiCiAgICAgICAgICAgIHhtbG5zOmV4aWY9Imh0dHA6Ly9ucy5hZG9iZS5jb20vZXhpZi8xLjAvIj4KICAgICAgICAgPGV4aWY6UGl4ZWxZRGltZW5zaW9uPjMzPC9leGlmOlBpeGVsWURpbWVuc2lvbj4KICAgICAgICAgPGV4aWY6UGl4ZWxYRGltZW5zaW9uPjMxPC9leGlmOlBpeGVsWERpbWVuc2lvbj4KICAgICAgICAgPGV4aWY6VXNlckNvbW1lbnQ+U2NyZWVuc2hvdDwvZXhpZjpVc2VyQ29tbWVudD4KICAgICAgPC9yZGY6RGVzY3JpcHRpb24+CiAgIDwvcmRmOlJERj4KPC94OnhtcG1ldGE+Cm62PE0AAAG/SURBVFgJ7VaxjoJAEB0vJ72FHX+AP2BlQWf4AipjQ0vs/ANKWzsCiV9g7CisLG30D+wIsbOA4i6PZC8n7M5CiCGX8yVkYZl5b3eYmWXweDy+qCd89KRbyr7Fe4n+3wz7/X4nXF3w2cZ5v9/T8Xik6/VKeZ6XroZhkGVZNJvNyHGcNnQ0aFLnp9OJttst3W43ltw0TfI8j6bTKWsnXmrFsdvNZiPsG42+7zeKAptw2HFbYawOPvDVgRVHqKvAt51MJtXp2rPMt2qkFEe4Vd8YO1utVjQej6t8P8/wBQcHpTiymsN8Pqcoish1XaWZjkMpjnLSYTgc0nK5pDAMybbtmrmOQyqO5iHquMYomUCJrddrCoLgKR/AwTUiqbiE/yVT0g43Go0Inavp7pFccRxTkiRPiwQHuFSQisMYLfN8Pqv8yvmiKErR3W4ntQMHB6U46pkTPxwOpXCapkp+cHBg2+tisajVOgizLKPL5cLxEpIQVcCBTTgcElWgdnXC8JH5VrlYcZxOOCTaAj5NTjY27EK0tyNVLABjLz8Tvxcg7kXn4upY2KrGRmFXOXedZxOuK7nO/y2ui9BL3v/fsH8D9kHIced7Q4kAAAAASUVORK5CYII=)\n",
        "icon to run the code.\n",
        "\n",
        "`print('This is a test of the Python interpreter.')`\n",
        "\n",
        "Expected Output:\n",
        "\n",
        "`This is a test of the Python interpreter.`\n"
      ],
      "metadata": {
        "id": "FwnWQQO8gLmX"
      }
    },
    {
      "cell_type": "code",
      "source": [
        "# Use the print() function to display the text\n",
        "print('This is a test of the Python interpreter.')"
      ],
      "metadata": {
        "id": "Bh736YfDgLmX",
        "colab": {
          "base_uri": "https://localhost:8080/"
        },
        "outputId": "1e3da989-6e04-42c7-dd7a-af65a670d2ab"
      },
      "execution_count": null,
      "outputs": [
        {
          "output_type": "stream",
          "name": "stdout",
          "text": [
            "This is a test of the Python interpreter.\n"
          ]
        }
      ]
    },
    {
      "cell_type": "markdown",
      "source": [
        "# Exercise 2"
      ],
      "metadata": {
        "id": "WRr4Z-o0S_fW"
      }
    },
    {
      "cell_type": "markdown",
      "source": [
        "Print a simple text: **\"5602105 Coding for Entrepreneurs: Starter Guide\"**.\n",
        "\n",
        "> 引用を追加\n",
        "\n",
        "\n",
        "\n",
        "Expected Output:\n",
        "\n",
        "`5602105 Coding for Entrepreneurs: Starter Guide`\n"
      ],
      "metadata": {
        "id": "ZdQF_RvRPvHX"
      }
    },
    {
      "cell_type": "code",
      "source": [
        "# Use the print() function to display the text\n",
        "# Write your code below\n",
        "print('5602105 Coding for Entreprenuers: Starter Guide')"
      ],
      "metadata": {
        "id": "M_wq96h6QDH_",
        "colab": {
          "base_uri": "https://localhost:8080/"
        },
        "outputId": "5dbae5e3-6516-451c-befb-8da841212881"
      },
      "execution_count": null,
      "outputs": [
        {
          "output_type": "stream",
          "name": "stdout",
          "text": [
            "5602105 Coding for Entreprenuers: Starter Guide\n"
          ]
        }
      ]
    },
    {
      "cell_type": "markdown",
      "source": [
        "# Exercise 3"
      ],
      "metadata": {
        "id": "Zs7x8n2aS8qf"
      }
    },
    {
      "cell_type": "markdown",
      "source": [
        "**Task:** Declare two variables **name** and **surname**, assign your name and surname to these variables, and then **print** them.\n",
        "\n",
        "*Example Scenario: A user named John Doe uses the program.*\n",
        "\n",
        "Expected Output:\n",
        "\n",
        "`John Doe`\n"
      ],
      "metadata": {
        "id": "c5YX-tR_PvRi"
      }
    },
    {
      "cell_type": "code",
      "source": [
        "# Write your code below\n",
        "\n",
        "# Declare a variable named 'name' and assign your first name to it\n",
        "name = 'Keitaro'\n",
        "\n",
        "# Declare another variable named 'surname' and assign your surname to it\n",
        "surname = 'Mae'\n",
        "\n",
        "# Use the print() function to display the contents of 'name' and 'surname' in one line\n",
        "print(name, surname)\n"
      ],
      "metadata": {
        "id": "5x9ZRhHJQkOR",
        "colab": {
          "base_uri": "https://localhost:8080/"
        },
        "outputId": "8e6c138c-20b6-4f54-f358-89c2a298e969"
      },
      "execution_count": null,
      "outputs": [
        {
          "output_type": "stream",
          "name": "stdout",
          "text": [
            "Keitaro Mae\n"
          ]
        }
      ]
    },
    {
      "cell_type": "markdown",
      "source": [
        "# Exercise 4"
      ],
      "metadata": {
        "id": "ojjMF0UrS_xm"
      }
    },
    {
      "cell_type": "markdown",
      "source": [
        "**Task:** Assign the value **10** to a variable **a** and print it.\n",
        "\n",
        "*Example scenario: Assign a fixed number to a variable.*\n",
        "\n",
        "Expected Output:\n",
        "\n",
        "`10`\n"
      ],
      "metadata": {
        "id": "oRPN9-mAPvcu"
      }
    },
    {
      "cell_type": "code",
      "source": [
        "# Write your code below\n",
        "# Create a variable 'a', assign it the value 10, and then use print() to display its value.\n",
        "a = 10\n",
        "print(a)\n",
        "\n"
      ],
      "metadata": {
        "id": "q6Zv09U7RHQh",
        "colab": {
          "base_uri": "https://localhost:8080/"
        },
        "outputId": "5d3c1835-f739-4ea5-d86c-424b37ea5d35"
      },
      "execution_count": null,
      "outputs": [
        {
          "output_type": "stream",
          "name": "stdout",
          "text": [
            "10\n"
          ]
        }
      ]
    },
    {
      "cell_type": "markdown",
      "source": [
        "# Exercise 5"
      ],
      "metadata": {
        "id": "-TZX44zGTABm"
      }
    },
    {
      "cell_type": "markdown",
      "source": [
        "**Task:** Assign values to **two variables** and print the **result of their addition**.\n",
        "\n",
        "*Example scenario: Add two numbers, say 5 and 7.*\n",
        "\n",
        "Expected Output:\n",
        "`12`\n"
      ],
      "metadata": {
        "id": "K7rzawqNPviG"
      }
    },
    {
      "cell_type": "code",
      "source": [
        "# Write your code below\n",
        "\n",
        "# Create two variables, assign numbers to them, and then print the sum of these numbers.\n",
        "num_one = 3\n",
        "num_two = 2\n",
        "sum = num_one + num_two\n",
        "\n",
        "print(sum)\n",
        "\n",
        "\n"
      ],
      "metadata": {
        "id": "849n4A2eRJY6",
        "colab": {
          "base_uri": "https://localhost:8080/"
        },
        "outputId": "453365b3-d688-49af-ea92-db287bfcc7e6"
      },
      "execution_count": null,
      "outputs": [
        {
          "output_type": "stream",
          "name": "stdout",
          "text": [
            "5\n"
          ]
        }
      ]
    },
    {
      "cell_type": "markdown",
      "source": [
        "# Exercise 6"
      ],
      "metadata": {
        "id": "6C2-cV8NTAUZ"
      }
    },
    {
      "cell_type": "markdown",
      "source": [
        "**Task:** Declare a variable and assign it a value using **input()**.\n",
        "\n",
        "Print the value assigned from the input.\n",
        "\n",
        "*Example scenario: assuming the user input was \"Hello\".*\n",
        "\n",
        "Expected Output:\n",
        "\n",
        "\n",
        "```\n",
        "Enter a value: Hello\n",
        "Hello\n",
        "```\n",
        "\n",
        "\n"
      ],
      "metadata": {
        "id": "-4-ibQ0sPvlV"
      }
    },
    {
      "cell_type": "code",
      "source": [
        "# Write your code below\n",
        "\n",
        "# Use the input() function to get a value from the user and store it in a variable.\n",
        "value = input(\"Enter a value: \")\n",
        "# Then, print the value of that variable.\n",
        "print(value)"
      ],
      "metadata": {
        "id": "2jqknwV2RLFB",
        "colab": {
          "base_uri": "https://localhost:8080/"
        },
        "outputId": "ebbbc897-59fe-47d2-90d6-1925a0d5dc43"
      },
      "execution_count": null,
      "outputs": [
        {
          "output_type": "stream",
          "name": "stdout",
          "text": [
            "Enter a value: Hello\n",
            "Hello\n"
          ]
        }
      ]
    },
    {
      "cell_type": "markdown",
      "source": [
        "# Exercise 7"
      ],
      "metadata": {
        "id": "G27LJAiNTiep"
      }
    },
    {
      "cell_type": "markdown",
      "source": [
        "**Task:** Take two numbers as input from the user, add them, and print the result.\n",
        "\n",
        "*Example scenario: User inputs two numbers, say 8 and 5.*\n",
        "\n",
        "Expected Output:\n",
        "\n",
        "```\n",
        "Enter first number: 8\n",
        "Enter second number: 5\n",
        "Sum: 13\n",
        "```\n",
        "\n"
      ],
      "metadata": {
        "id": "_07zPkLiPvvw"
      }
    },
    {
      "cell_type": "code",
      "source": [
        "# Write your code below\n",
        "\n",
        "# Use input() to get the first number from the user and store it in num1\n",
        "first_num = int(input(\"Enter first number: \"))\n",
        "# Use input() to get the second number from the user and store it in num2\n",
        "second_num = int(input(\"Enter second number: \"))\n",
        "# Convert num1 and num2 to floats (or integers) for arithmetic operation\n",
        "sum = first_num + second_num\n",
        "# Add num1 and num2 and store the result in a variable named 'sum'\n",
        "\n",
        "# Print the sum using the print() function\n",
        "print(sum)"
      ],
      "metadata": {
        "id": "5ZPKs0jORRQi",
        "colab": {
          "base_uri": "https://localhost:8080/"
        },
        "outputId": "5f68b406-2035-4ea4-e742-98d0dc516b2a"
      },
      "execution_count": null,
      "outputs": [
        {
          "output_type": "stream",
          "name": "stdout",
          "text": [
            "Enter first number: 8\n",
            "Enter second number: 5\n",
            "13\n"
          ]
        }
      ]
    },
    {
      "cell_type": "markdown",
      "source": [
        "# Exercise 8"
      ],
      "metadata": {
        "id": "ZyqL4LFBTnbz"
      }
    },
    {
      "cell_type": "markdown",
      "source": [
        "**Task:** Take two numbers as input from the user, subtract them, and print the result.\n",
        "\n",
        "*Example Scenario: User inputs two numbers, say 15 and 7.*\n",
        "\n",
        "Expected Output:\n",
        "\n",
        "```\n",
        "Enter first number: 15\n",
        "Enter second number: 7\n",
        "Difference: 8\n",
        "```\n",
        "\n"
      ],
      "metadata": {
        "id": "VU_9bsdPRP_Y"
      }
    },
    {
      "cell_type": "code",
      "source": [
        "# Write your code below\n",
        "\n",
        "# Use input() to get the first number from the user and store it in a variable, say num1\n",
        "num1 = int(input(\"Enter first number: \"))\n",
        "# Use input() to get the second number from the user and store it in another variable, say num2\n",
        "num2 = int(input(\"Enter second number: \"))\n",
        "# Convert num1 and num2 to floats (or integers) for arithmetic operation\n",
        "\n",
        "# Subtract num2 from num1 and store the result in a variable, say difference\n",
        "difference = num1 - num2\n",
        "# Print the difference using the print() function\n",
        "print(difference)"
      ],
      "metadata": {
        "id": "aq53J1oeRT29",
        "colab": {
          "base_uri": "https://localhost:8080/"
        },
        "outputId": "ca7e974d-2f6e-4bb4-c4ca-af30cce9b99f"
      },
      "execution_count": null,
      "outputs": [
        {
          "output_type": "stream",
          "name": "stdout",
          "text": [
            "Enter first number: 15\n",
            "Enter second number: 7\n",
            "8\n"
          ]
        }
      ]
    },
    {
      "cell_type": "markdown",
      "source": [
        "# Exercise 9"
      ],
      "metadata": {
        "id": "CajZFZQoTqg4"
      }
    },
    {
      "cell_type": "markdown",
      "source": [
        "**Task:** Create a simple mathematical equation that requires inputs, calculate the result, and print it.\n",
        "\n",
        " *Example scenario: User inputs values for a simple equation, say a=2 and b=3 for a * b + 5.*\n",
        "\n",
        "Expected Output:\n",
        "\n",
        "Result:\n",
        "\n",
        "\n",
        "\n",
        "```\n",
        "Enter value for a: 2\n",
        "Enter value for b: 3\n",
        "Result: 11\n",
        "```\n",
        "\n",
        "\n",
        "\n"
      ],
      "metadata": {
        "id": "ywm2U2WRPv1e"
      }
    },
    {
      "cell_type": "code",
      "source": [
        "# Your code here\n",
        "\n",
        "# Use input() to get the first value from the user and store it in a variable, say a\n",
        "a = int(input(\"Enter value for a: \"))\n",
        "# Use input() to get the second value from the user and store it in another variable, say b\n",
        "b = int(input(\"Enter value for b: \"))\n",
        "# Convert a and b to floats (or integers) for arithmetic operation\n",
        "\n",
        "# Perform the mathematical operation (e.g., a * b + 5) and store the result in a variable, say result\n",
        "result = a * b + 5\n",
        "# Print the result using the print() function\n",
        "print(\"product of\", a,\",\", b, \"and addition of 5 is:\",\n",
        "      result)"
      ],
      "metadata": {
        "id": "40HI0tTSRVtG",
        "colab": {
          "base_uri": "https://localhost:8080/"
        },
        "outputId": "915c307d-b316-4ea2-b6a9-5504fa21ba63"
      },
      "execution_count": null,
      "outputs": [
        {
          "output_type": "stream",
          "name": "stdout",
          "text": [
            "Enter value for a: 4\n",
            "Enter value for b: 3\n",
            "product of 4 , 3 and addition of 5 is: 17\n"
          ]
        }
      ]
    },
    {
      "cell_type": "markdown",
      "source": [
        "# Exercise 10"
      ],
      "metadata": {
        "id": "klh0bLtIUI8j"
      }
    },
    {
      "cell_type": "markdown",
      "source": [
        "**Task:** Imagine you are a shopkeeper. You need to calculate the price per item. Take the total price and the number of items as input from the user, then compute and print the price per item.\n",
        "\n",
        "**Expected Output:**\n",
        "```\n",
        "Enter the total price of the items: 30.00\n",
        "Enter the number of items purchased: 3\n",
        "Price per item: 10.0\n",
        "```\n",
        "\n"
      ],
      "metadata": {
        "id": "WEDgJbj9XLf_"
      }
    },
    {
      "cell_type": "code",
      "source": [
        "# Use input() to get the total price from the user and store it in a variable, say total_price\n",
        "total_price = int(input(\"Enter the total price of the items: \"))\n",
        "# Use input() to get the number of items from the user and store it in another variable, say number_of_items\n",
        "number_of_items = int(input(\"Enter the number of items purchased: \"))\n",
        "# Convert total_price and number_of_items to floats (or integers) for arithmetic operation\n",
        "\n",
        "# Calculate the price per item by dividing total_price by number_of_items and store the result in a variable, say price_per_item\n",
        "price_per_item = total_price / number_of_items\n",
        "# Print the price per item using the print() function\n",
        "print(\"Price per item:\", price_per_item)"
      ],
      "metadata": {
        "id": "A7kUZPm6XPcn",
        "colab": {
          "base_uri": "https://localhost:8080/"
        },
        "outputId": "b9f19c41-6e1c-40b2-99f7-6ed88a83515a"
      },
      "execution_count": null,
      "outputs": [
        {
          "output_type": "stream",
          "name": "stdout",
          "text": [
            "Enter the total price of the items: 80\n",
            "Enter the number of items purchased: 8\n",
            "Price per item: 10.0\n"
          ]
        }
      ]
    }
  ]
}